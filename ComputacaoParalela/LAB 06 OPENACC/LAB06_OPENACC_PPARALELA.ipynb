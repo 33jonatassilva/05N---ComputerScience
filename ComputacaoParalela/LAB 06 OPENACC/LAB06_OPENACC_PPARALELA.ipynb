{
  "nbformat": 4,
  "nbformat_minor": 0,
  "metadata": {
    "colab": {
      "provenance": [],
      "gpuType": "T4"
    },
    "kernelspec": {
      "name": "python3",
      "display_name": "Python 3"
    },
    "language_info": {
      "name": "python"
    },
    "accelerator": "GPU"
  },
  "cells": [
    {
      "cell_type": "markdown",
      "source": [
        "#LAB 06 Programação Paralela OpenACC\n"
      ],
      "metadata": {
        "id": "180JBejDPhCu"
      }
    },
    {
      "cell_type": "code",
      "source": [
        "##Jonatas de Brito Silva - 10403674\n",
        "##Felipe Gyotoku Koike - 10409640\n",
        "##Bruno Viana Tripoli Barbosa - 10409547"
      ],
      "metadata": {
        "id": "qK_NF5oPet1K"
      },
      "execution_count": null,
      "outputs": []
    },
    {
      "cell_type": "markdown",
      "source": [
        "## Baixando e instalando pacotes HPC SDK da NVidia"
      ],
      "metadata": {
        "id": "RvPMlJTMQJkM"
      }
    },
    {
      "cell_type": "code",
      "source": [
        "!wget https://developer.download.nvidia.com/hpc-sdk/20.9/nvhpc-20-9_20.9_amd64.deb"
      ],
      "metadata": {
        "colab": {
          "base_uri": "https://localhost:8080/"
        },
        "id": "-4_aelDdQRGB",
        "outputId": "ac6e2283-575d-4c59-d8b9-7062adb4c630"
      },
      "execution_count": null,
      "outputs": [
        {
          "output_type": "stream",
          "name": "stdout",
          "text": [
            "--2024-11-16 13:55:28--  https://developer.download.nvidia.com/hpc-sdk/20.9/nvhpc-20-9_20.9_amd64.deb\n",
            "Resolving developer.download.nvidia.com (developer.download.nvidia.com)... 152.195.19.142\n",
            "Connecting to developer.download.nvidia.com (developer.download.nvidia.com)|152.195.19.142|:443... connected.\n",
            "HTTP request sent, awaiting response... 200 OK\n",
            "Length: 2117119120 (2.0G) [application/x-deb]\n",
            "Saving to: ‘nvhpc-20-9_20.9_amd64.deb’\n",
            "\n",
            "nvhpc-20-9_20.9_amd 100%[===================>]   1.97G   104MB/s    in 20s     \n",
            "\n",
            "2024-11-16 13:55:48 (102 MB/s) - ‘nvhpc-20-9_20.9_amd64.deb’ saved [2117119120/2117119120]\n",
            "\n"
          ]
        }
      ]
    },
    {
      "cell_type": "code",
      "source": [
        "!wget https://developer.download.nvidia.com/hpc-sdk/20.9/nvhpc-2020_20.9_amd64.deb"
      ],
      "metadata": {
        "colab": {
          "base_uri": "https://localhost:8080/"
        },
        "id": "Djw3gf6LQcsm",
        "outputId": "27748c04-1e5d-4cc0-cd06-cc0b6b246f6c"
      },
      "execution_count": null,
      "outputs": [
        {
          "output_type": "stream",
          "name": "stdout",
          "text": [
            "--2024-11-16 13:55:58--  https://developer.download.nvidia.com/hpc-sdk/20.9/nvhpc-2020_20.9_amd64.deb\n",
            "Resolving developer.download.nvidia.com (developer.download.nvidia.com)... 152.195.19.142\n",
            "Connecting to developer.download.nvidia.com (developer.download.nvidia.com)|152.195.19.142|:443... connected.\n",
            "HTTP request sent, awaiting response... 200 OK\n",
            "Length: 1272 (1.2K) [application/x-deb]\n",
            "Saving to: ‘nvhpc-2020_20.9_amd64.deb’\n",
            "\n",
            "\r          nvhpc-202   0%[                    ]       0  --.-KB/s               \rnvhpc-2020_20.9_amd 100%[===================>]   1.24K  --.-KB/s    in 0s      \n",
            "\n",
            "2024-11-16 13:55:58 (62.9 MB/s) - ‘nvhpc-2020_20.9_amd64.deb’ saved [1272/1272]\n",
            "\n"
          ]
        }
      ]
    },
    {
      "cell_type": "code",
      "source": [
        "!wget https://developer.download.nvidia.com/hpc-sdk/20.9/nvhpc-20-9-cuda-multi_20.9_amd64.deb"
      ],
      "metadata": {
        "colab": {
          "base_uri": "https://localhost:8080/"
        },
        "id": "r9sCPhSIQfuL",
        "outputId": "612ddaeb-292f-492a-c752-6d134690fe95"
      },
      "execution_count": null,
      "outputs": [
        {
          "output_type": "stream",
          "name": "stdout",
          "text": [
            "--2024-11-16 13:56:01--  https://developer.download.nvidia.com/hpc-sdk/20.9/nvhpc-20-9-cuda-multi_20.9_amd64.deb\n",
            "Resolving developer.download.nvidia.com (developer.download.nvidia.com)... 152.195.19.142\n",
            "Connecting to developer.download.nvidia.com (developer.download.nvidia.com)|152.195.19.142|:443... connected.\n",
            "HTTP request sent, awaiting response... 200 OK\n",
            "Length: 1558347920 (1.5G) [application/x-deb]\n",
            "Saving to: ‘nvhpc-20-9-cuda-multi_20.9_amd64.deb’\n",
            "\n",
            "nvhpc-20-9-cuda-mul 100%[===================>]   1.45G   101MB/s    in 15s     \n",
            "\n",
            "2024-11-16 13:56:17 (96.2 MB/s) - ‘nvhpc-20-9-cuda-multi_20.9_amd64.deb’ saved [1558347920/1558347920]\n",
            "\n"
          ]
        }
      ]
    },
    {
      "cell_type": "code",
      "source": [
        "!sudo apt-get install ./nvhpc-20-9_20.9_amd64.deb ./nvhpc-2020_20.9_amd64.deb ./nvhpc-20-9-cuda-multi_20.9_amd64.deb"
      ],
      "metadata": {
        "colab": {
          "base_uri": "https://localhost:8080/"
        },
        "id": "p54Q63zNQijp",
        "outputId": "c43f4e0c-cf45-4dc2-e412-859d83f58724"
      },
      "execution_count": null,
      "outputs": [
        {
          "output_type": "stream",
          "name": "stdout",
          "text": [
            "Reading package lists... Done\n",
            "Building dependency tree... Done\n",
            "Reading state information... Done\n",
            "Note, selecting 'nvhpc-20-9' instead of './nvhpc-20-9_20.9_amd64.deb'\n",
            "Note, selecting 'nvhpc-2020' instead of './nvhpc-2020_20.9_amd64.deb'\n",
            "Note, selecting 'nvhpc-20-9-cuda-multi' instead of './nvhpc-20-9-cuda-multi_20.9_amd64.deb'\n",
            "nvhpc-20-9 is already the newest version (20.9).\n",
            "nvhpc-20-9-cuda-multi is already the newest version (20.9).\n",
            "nvhpc-2020 is already the newest version (20.9).\n",
            "0 upgraded, 0 newly installed, 0 to remove and 48 not upgraded.\n",
            "2 not fully installed or removed.\n",
            "After this operation, 0 B of additional disk space will be used.\n",
            "Setting up nvidia-dkms-525 (525.147.05-0ubuntu1) ...\n",
            "\n",
            "A modprobe blacklist file has been created at /etc/modprobe.d to prevent Nouveau\n",
            "from loading. This can be reverted by deleting the following file:\n",
            "/etc/modprobe.d/nvidia-graphics-drivers.conf\n",
            "\n",
            "A new initrd image has also been created. To revert, please regenerate your\n",
            "initrd by running the following command after deleting the modprobe.d file:\n",
            "`/usr/sbin/initramfs -u`\n",
            "\n",
            "*****************************************************************************\n",
            "*** Reboot your computer and verify that the NVIDIA graphics driver can   ***\n",
            "*** be loaded.                                                            ***\n",
            "*****************************************************************************\n",
            "\n",
            "debconf: unable to initialize frontend: Dialog\n",
            "debconf: (No usable dialog-like program is installed, so the dialog based frontend cannot be used. at /usr/share/perl5/Debconf/FrontEnd/Dialog.pm line 78.)\n",
            "debconf: falling back to frontend: Readline\n",
            "Removing old nvidia-525.147.05 DKMS files...\n",
            "Deleting module nvidia-525.147.05 completely from the DKMS tree.\n",
            "Loading new nvidia-525.147.05 DKMS files...\n",
            "It is likely that 6.1.85+ belongs to a chroot's host\n",
            "Building for 5.15.0-125-generic\n",
            "Building for architecture x86_64\n",
            "Building initial module for 5.15.0-125-generic\n"
          ]
        }
      ]
    },
    {
      "cell_type": "code",
      "source": [
        "!/opt/nvidia/hpc_sdk/Linux_x86_64/20.9/compilers/bin/nvc --version"
      ],
      "metadata": {
        "colab": {
          "base_uri": "https://localhost:8080/"
        },
        "id": "Q3vN7e-KQvTx",
        "outputId": "690e0dbf-27c5-4abe-ed0a-db3f91cb2981"
      },
      "execution_count": null,
      "outputs": [
        {
          "output_type": "stream",
          "name": "stdout",
          "text": [
            "\n",
            "nvc 20.9-0 LLVM 64-bit target on x86-64 Linux -tp haswell \n",
            "NVIDIA Compilers and Tools\n",
            "Copyright (c) 2020, NVIDIA CORPORATION.  All rights reserved.\n"
          ]
        }
      ]
    },
    {
      "cell_type": "code",
      "source": [
        "!nvidia-smi"
      ],
      "metadata": {
        "colab": {
          "base_uri": "https://localhost:8080/"
        },
        "id": "vWtFF6oVQv7s",
        "outputId": "78a3239f-1ea8-4a63-d85d-a34324374df3"
      },
      "execution_count": null,
      "outputs": [
        {
          "output_type": "stream",
          "name": "stdout",
          "text": [
            "Sat Nov 16 14:38:35 2024       \n",
            "+---------------------------------------------------------------------------------------+\n",
            "| NVIDIA-SMI 535.104.05             Driver Version: 535.104.05   CUDA Version: 12.2     |\n",
            "|-----------------------------------------+----------------------+----------------------+\n",
            "| GPU  Name                 Persistence-M | Bus-Id        Disp.A | Volatile Uncorr. ECC |\n",
            "| Fan  Temp   Perf          Pwr:Usage/Cap |         Memory-Usage | GPU-Util  Compute M. |\n",
            "|                                         |                      |               MIG M. |\n",
            "|=========================================+======================+======================|\n",
            "|   0  Tesla T4                       Off | 00000000:00:04.0 Off |                    0 |\n",
            "| N/A   59C    P8              10W /  70W |      0MiB / 15360MiB |      0%      Default |\n",
            "|                                         |                      |                  N/A |\n",
            "+-----------------------------------------+----------------------+----------------------+\n",
            "                                                                                         \n",
            "+---------------------------------------------------------------------------------------+\n",
            "| Processes:                                                                            |\n",
            "|  GPU   GI   CI        PID   Type   Process name                            GPU Memory |\n",
            "|        ID   ID                                                             Usage      |\n",
            "|=======================================================================================|\n",
            "|  No running processes found                                                           |\n",
            "+---------------------------------------------------------------------------------------+\n"
          ]
        }
      ]
    },
    {
      "cell_type": "markdown",
      "source": [
        "##Exercício 01: Regra do Trapézio usando OpenACC"
      ],
      "metadata": {
        "id": "_QU4uVuzPq7H"
      }
    },
    {
      "cell_type": "code",
      "source": [
        "%%writefile integralTrapezio.c\n",
        "#include <stdio.h>\n",
        "#include <math.h>\n",
        "\n",
        "double f(double x) {\n",
        "    return x * x;\n",
        "}\n",
        "\n",
        "double trapezoidal_rule_openacc(double a, double b, int n) {\n",
        "    double h = (b - a) / n;\n",
        "    double integral = (f(a) + f(b)) / 2.0;\n",
        "    double sum = 0.0;\n",
        "\n",
        "    #pragma acc parallel loop reduction(+:sum)\n",
        "    for (int i = 1; i < n; i++) {\n",
        "        double x_i = a + i * h;\n",
        "        sum += f(x_i);\n",
        "    }\n",
        "\n",
        "    integral += sum;\n",
        "    integral *= h;\n",
        "    return integral;\n",
        "}\n",
        "\n",
        "int main() {\n",
        "    double a = 0.0, b = 1.0;\n",
        "    int n = 100000;\n",
        "    printf(\"Integral: %f\\n\", trapezoidal_rule_openacc(a, b, n));\n",
        "    return 0;\n",
        "}\n"
      ],
      "metadata": {
        "colab": {
          "base_uri": "https://localhost:8080/"
        },
        "id": "tej-nu6-alUK",
        "outputId": "e57bd8d6-d083-4917-bfa1-280f3a2c3005"
      },
      "execution_count": 5,
      "outputs": [
        {
          "output_type": "stream",
          "name": "stdout",
          "text": [
            "Writing integralTrapezio.c\n"
          ]
        }
      ]
    },
    {
      "cell_type": "code",
      "source": [
        "!gcc -fopenacc integralTrapezio.c -o integralTrapezio\n",
        "!./integralTrapezio"
      ],
      "metadata": {
        "colab": {
          "base_uri": "https://localhost:8080/"
        },
        "id": "-fbhMM4za1s2",
        "outputId": "405c8a47-fa9c-4d20-f297-92bd29abe36c"
      },
      "execution_count": 8,
      "outputs": [
        {
          "output_type": "stream",
          "name": "stdout",
          "text": [
            "Integral: 0.333333\n"
          ]
        }
      ]
    },
    {
      "cell_type": "markdown",
      "source": [
        "##Exercício 02: Nova Multiplicação de Matrizes OpenAcc"
      ],
      "metadata": {
        "id": "JbMlims8PzkK"
      }
    },
    {
      "cell_type": "code",
      "source": [
        "%%writefile mult_openAcc.c\n",
        "\n",
        "#include <stdio.h>\n",
        "#include <stdlib.h>\n",
        "#include <time.h>\n",
        "\n",
        "#define MAX_VAL 255\n",
        "\n",
        "// Função para alocar uma matriz dinamicamente\n",
        "float **allocate_matrix(int rows, int cols) {\n",
        "    float **matrix = (float **)malloc(rows * sizeof(float *));\n",
        "    for (int i = 0; i < rows; i++) {\n",
        "        matrix[i] = (float *)malloc(cols * sizeof(float));\n",
        "    }\n",
        "    return matrix;\n",
        "}\n",
        "\n",
        "// Função para liberar uma matriz\n",
        "void free_matrix(float **matrix, int rows) {\n",
        "    for (int i = 0; i < rows; i++) {\n",
        "        free(matrix[i]);\n",
        "    }\n",
        "    free(matrix);\n",
        "}\n",
        "\n",
        "// Função para inicializar uma matriz com valores aleatórios\n",
        "void initialize_matrix(float **matrix, int rows, int cols) {\n",
        "    for (int i = 0; i < rows; i++) {\n",
        "        for (int j = 0; j < cols; j++) {\n",
        "            matrix[i][j] = rand() % (MAX_VAL + 1);\n",
        "        }\n",
        "    }\n",
        "}\n",
        "\n",
        "// Função para aplicar a convolução\n",
        "void convolve(float **input, float **output, float **kernel, int rows, int cols, int kernel_size) {\n",
        "    int offset = kernel_size / 2;\n",
        "\n",
        "    // Iterar pelos elementos da matriz de saída\n",
        "    for (int i = offset; i < rows - offset; i++) {\n",
        "        for (int j = offset; j < cols - offset; j++) {\n",
        "            float sum = 0.0;\n",
        "\n",
        "            // Aplicar o kernel\n",
        "            for (int ki = 0; ki < kernel_size; ki++) {\n",
        "                for (int kj = 0; kj < kernel_size; kj++) {\n",
        "                    int x = i + ki - offset;\n",
        "                    int y = j + kj - offset;\n",
        "                    sum += input[x][y] * kernel[ki][kj];\n",
        "                }\n",
        "            }\n",
        "\n",
        "            output[i - offset][j - offset] = sum;\n",
        "        }\n",
        "    }\n",
        "}\n",
        "\n",
        "// Função para criar um kernel\n",
        "void initialize_kernel(float **kernel, int size) {\n",
        "    for (int i = 0; i < size; i++) {\n",
        "        for (int j = 0; j < size; j++) {\n",
        "            kernel[i][j] = 1.0 / (size * size); // Média\n",
        "        }\n",
        "    }\n",
        "}\n",
        "\n",
        "int main() {\n",
        "    srand(time(NULL));\n",
        "\n",
        "    // Tamanhos das matrizes\n",
        "    int sizes[] = {1048, 4096};\n",
        "    int kernel_sizes[] = {5, 11, 33};\n",
        "\n",
        "    for (int s = 0; s < 2; s++) { // Para cada tamanho de matriz\n",
        "        int rows = sizes[s], cols = sizes[s];\n",
        "\n",
        "        // Alocar e inicializar matriz original\n",
        "        float **input = allocate_matrix(rows, cols);\n",
        "        initialize_matrix(input, rows, cols);\n",
        "\n",
        "        for (int k = 0; k < 3; k++) { // Para cada tamanho de kernel\n",
        "            int kernel_size = kernel_sizes[k];\n",
        "            int output_rows = rows - kernel_size + 1;\n",
        "            int output_cols = cols - kernel_size + 1;\n",
        "\n",
        "            // Alocar matriz de saída e kernel\n",
        "            float **output = allocate_matrix(output_rows, output_cols);\n",
        "            float **kernel = allocate_matrix(kernel_size, kernel_size);\n",
        "\n",
        "            initialize_kernel(kernel, kernel_size);\n",
        "\n",
        "            // Medir o tempo da convolução\n",
        "            clock_t start = clock();\n",
        "            convolve(input, output, kernel, rows, cols, kernel_size);\n",
        "            clock_t end = clock();\n",
        "\n",
        "            printf(\"Convolução: Matriz %dx%d com Kernel %dx%d -> Tempo: %.2f segundos\\n\",\n",
        "                   rows, cols, kernel_size, kernel_size, (double)(end - start) / CLOCKS_PER_SEC);\n",
        "\n",
        "            // Liberar memória da matriz de saída e kernel\n",
        "            free_matrix(output, output_rows);\n",
        "            free_matrix(kernel, kernel_size);\n",
        "        }\n",
        "\n",
        "        // Liberar memória da matriz de entrada\n",
        "        free_matrix(input, rows);\n",
        "    }\n",
        "\n",
        "    return 0;\n",
        "}\n"
      ],
      "metadata": {
        "id": "-HQXnpJfPpNP",
        "colab": {
          "base_uri": "https://localhost:8080/"
        },
        "outputId": "a77bba83-8ec6-4eaf-e727-0265d7ea91ea"
      },
      "execution_count": 9,
      "outputs": [
        {
          "output_type": "stream",
          "name": "stdout",
          "text": [
            "Writing mult_openAcc.c\n"
          ]
        }
      ]
    },
    {
      "cell_type": "code",
      "source": [
        "!gcc -fopenacc mult_openAcc.c -o mult_openAcc\n",
        "!./mult_openAcc"
      ],
      "metadata": {
        "colab": {
          "base_uri": "https://localhost:8080/"
        },
        "id": "Jv4sMnribxJr",
        "outputId": "6bc129b1-0f3c-49b8-a175-5c4b515122ea"
      },
      "execution_count": 10,
      "outputs": [
        {
          "output_type": "stream",
          "name": "stdout",
          "text": [
            "Convolução: Matriz 1048x1048 com Kernel 5x5 -> Tempo: 0.14 segundos\n",
            "Convolução: Matriz 1048x1048 com Kernel 11x11 -> Tempo: 0.64 segundos\n",
            "Convolução: Matriz 1048x1048 com Kernel 33x33 -> Tempo: 5.55 segundos\n",
            "Convolução: Matriz 4096x4096 com Kernel 5x5 -> Tempo: 2.97 segundos\n",
            "Convolução: Matriz 4096x4096 com Kernel 11x11 -> Tempo: 10.10 segundos\n",
            "Convolução: Matriz 4096x4096 com Kernel 33x33 -> Tempo: 97.39 segundos\n"
          ]
        }
      ]
    }
  ]
}