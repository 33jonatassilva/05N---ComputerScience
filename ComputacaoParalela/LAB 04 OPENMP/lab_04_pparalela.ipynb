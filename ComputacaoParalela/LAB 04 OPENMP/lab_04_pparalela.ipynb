{
  "nbformat": 4,
  "nbformat_minor": 0,
  "metadata": {
    "colab": {
      "provenance": []
    },
    "kernelspec": {
      "name": "python3",
      "display_name": "Python 3"
    },
    "language_info": {
      "name": "python"
    }
  },
  "cells": [
    {
      "cell_type": "markdown",
      "source": [
        "#Lab 1 - Programação - Integral Regra do Trapézio"
      ],
      "metadata": {
        "id": "rZVA5XtIbuv1"
      }
    },
    {
      "cell_type": "markdown",
      "source": [
        "## Código fonte sequencial:"
      ],
      "metadata": {
        "id": "mdNjSs9ibziU"
      }
    },
    {
      "cell_type": "code",
      "source": [
        "%%writefile itegral_omp.c\n",
        "\n",
        "\n",
        "#include <stdio.h>\n",
        "#include <math.h>\n",
        "#include <time.h>\n",
        "\n",
        "\n",
        "\n",
        "double f(double x) {\n",
        "    return sin(x);\n",
        "}\n",
        "\n",
        "\n",
        "double trapezoidal_rule(double a, double b, int n) {\n",
        "    double h = (b - a) / n;\n",
        "    double approx = (f(a) + f(b)) / 2.0;\n",
        "\n",
        "\n",
        "    for (int i = 1; i <= n - 1; i++) {\n",
        "        double x_i = a + i * h;\n",
        "        approx += f(x_i);\n",
        "    }\n",
        "\n",
        "\n",
        "    approx = h * approx;\n",
        "    return approx;\n",
        "}\n",
        "\n",
        "\n",
        "int main() {\n",
        "    double a = 0.0, b = M_PI;\n",
        "    int n = 100000000;\n",
        "\n",
        "\n",
        "    clock_t start_time = clock();\n",
        "\n",
        "\n",
        "    double result = trapezoidal_rule(a, b, n);\n",
        "\n",
        "\n",
        "    clock_t end_time = clock();\n",
        "    double execution_time = ((double)(end_time - start_time)) / CLOCKS_PER_SEC;\n",
        "\n",
        "\n",
        "    printf(\"Resultado: %f\\n\", result);\n",
        "    printf(\"Tempo de execução (sequencial): %f segundos\\n\", execution_time);\n",
        "\n",
        "\n",
        "    return 0;\n",
        "}\n"
      ],
      "metadata": {
        "colab": {
          "base_uri": "https://localhost:8080/"
        },
        "id": "CjBtWT8jb4h4",
        "outputId": "1453c84e-c967-4246-e626-49332eb3a3d4"
      },
      "execution_count": 15,
      "outputs": [
        {
          "output_type": "stream",
          "name": "stdout",
          "text": [
            "Overwriting itegral_omp.c\n"
          ]
        }
      ]
    },
    {
      "cell_type": "code",
      "source": [
        "!gcc -fopenmp itegral_omp.c -lm -o itegral_omp\n",
        "!./itegral_omp"
      ],
      "metadata": {
        "colab": {
          "base_uri": "https://localhost:8080/"
        },
        "id": "538lnQXAcCbl",
        "outputId": "6259d9d7-499f-41ec-b989-7cac05c8029d"
      },
      "execution_count": 16,
      "outputs": [
        {
          "output_type": "stream",
          "name": "stdout",
          "text": [
            "Resultado: 2.000000\n",
            "Tempo de execução (sequencial): 2.109870 segundos\n"
          ]
        }
      ]
    },
    {
      "cell_type": "markdown",
      "source": [
        "##Código fonte implementação paralela e melhorias:"
      ],
      "metadata": {
        "id": "4IY73xj2b9uO"
      }
    },
    {
      "cell_type": "code",
      "source": [
        "%%writefile itegral_paralel_omp.c\n",
        "\n",
        "\n",
        "#include <stdio.h>\n",
        "#include <math.h>\n",
        "#include <omp.h>\n",
        "\n",
        "\n",
        "double f(double x) {\n",
        "    return sin(x);\n",
        "}\n",
        "\n",
        "\n",
        "double trapezoidal_rule(double a, double b, int n) {\n",
        "    double h = (b - a) / n;\n",
        "    double approx = (f(a) + f(b)) / 2.0;\n",
        "\n",
        "\n",
        "    #pragma omp parallel for reduction(+:approx)\n",
        "    for (int i = 1; i <= n - 1; i++) {\n",
        "        double x_i = a + i * h;\n",
        "        approx += f(x_i);\n",
        "    }\n",
        "\n",
        "\n",
        "    approx = h * approx;\n",
        "    return approx;\n",
        "}\n",
        "\n",
        "\n",
        "int main() {\n",
        "    double a = 0.0, b = M_PI;\n",
        "    int n = 100000000;\n",
        "\n",
        "\n",
        "    double start_time = omp_get_wtime();\n",
        "\n",
        "\n",
        "    double result = trapezoidal_rule(a, b, n);\n",
        "\n",
        "\n",
        "    double end_time = omp_get_wtime();\n",
        "    double execution_time = end_time - start_time;\n",
        "\n",
        "\n",
        "    printf(\"Resultado: %f\\n\", result);\n",
        "    printf(\"Tempo de execução (OpenMP): %f segundos\\n\", execution_time);\n",
        "\n",
        "\n",
        "    return 0;\n",
        "}\n"
      ],
      "metadata": {
        "colab": {
          "base_uri": "https://localhost:8080/"
        },
        "id": "P3ubYSWbcA9Z",
        "outputId": "a2191ea8-8f22-4d52-8c94-9f38b98cb68e"
      },
      "execution_count": 6,
      "outputs": [
        {
          "output_type": "stream",
          "name": "stdout",
          "text": [
            "Overwriting itegral_paralel_omp.c\n"
          ]
        }
      ]
    },
    {
      "cell_type": "code",
      "source": [
        "!gcc -fopenmp itegral_paralel_omp.c -lm -o itegral_paralel_omp\n",
        "!./itegral_paralel_omp"
      ],
      "metadata": {
        "colab": {
          "base_uri": "https://localhost:8080/"
        },
        "id": "10okL5Grcc-r",
        "outputId": "0e18be71-e0db-4302-cc9f-9575c4b25594"
      },
      "execution_count": 7,
      "outputs": [
        {
          "output_type": "stream",
          "name": "stdout",
          "text": [
            "Resultado: 2.000000\n",
            "Tempo de execução (OpenMP): 1.584109 segundos\n"
          ]
        }
      ]
    },
    {
      "cell_type": "markdown",
      "source": [
        "#Lab 2 - Avaliação de desempenho\n"
      ],
      "metadata": {
        "id": "qZscVIOkccqZ"
      }
    },
    {
      "cell_type": "markdown",
      "source": [
        "##Código Fonte Critical:"
      ],
      "metadata": {
        "id": "N3uRu8fldr8-"
      }
    },
    {
      "cell_type": "code",
      "source": [
        "%%writefile somatorio_crit_openmb.c\n",
        "\n",
        "\n",
        "#include <stdio.h>\n",
        "#include <omp.h>\n",
        "#include <stdlib.h>\n",
        "#include <time.h>\n",
        "\n",
        "\n",
        "#define SIZE (1 << 30)\n",
        "#define REPS 10\n",
        "\n",
        "\n",
        "// Preenchendo o vetor somente com 1.\n",
        "void fill_array(int *arr, long long size) {\n",
        "    for (long long i = 0; i < size; i++) {\n",
        "        arr[i] = 1;\n",
        "    }\n",
        "}\n",
        "\n",
        "\n",
        "double sum_with_critical(int *arr, long long size, int threads) {\n",
        "    long long sum = 0;\n",
        "    double start_time, end_time;\n",
        "\n",
        "\n",
        "    start_time = omp_get_wtime();\n",
        "\n",
        "\n",
        "    #pragma omp parallel num_threads(threads)\n",
        "    {\n",
        "        long long partial_sum = 0;\n",
        "        #pragma omp for\n",
        "        for (long long i = 0; i < size; i++) {\n",
        "            partial_sum += arr[i];\n",
        "        }\n",
        "        #pragma omp critical\n",
        "        sum += partial_sum;\n",
        "    }\n",
        "    end_time = omp_get_wtime();\n",
        "    return end_time - start_time;\n",
        "}\n",
        "\n",
        "\n",
        "void run_experiment(int *arr, long long size) {\n",
        "    int threads[] = {1, 2, 3, 4, 5, 6};\n",
        "    double time_critical[6] = {0};\n",
        "\n",
        "\n",
        "    // Realizando 10 execuções para média\n",
        "    for (int r = 0; r < REPS; r++) {\n",
        "        for (int i = 0; i < 6; i++) {\n",
        "            time_critical[i] += sum_with_critical(arr, size, threads[i]);\n",
        "        }\n",
        "    }\n",
        "\n",
        "\n",
        "    // Calculando a média\n",
        "    for (int i = 0; i < 6; i++) {\n",
        "        time_critical[i] /= REPS;\n",
        "    }\n",
        "\n",
        "\n",
        "    // Imprimindo a tabela\n",
        "    printf(\"Threads\\tCritical\\n\");\n",
        "    for (int i = 0; i < 6; i++) {\n",
        "        printf(\"%d\\t%f\\n\", threads[i], time_critical[i]);\n",
        "    }\n",
        "}\n",
        "\n",
        "\n",
        "int main() {\n",
        "    // Alocando o vetor dinamicamente para suportar 2^30 elementos\n",
        "    int *arr = (int*) malloc(SIZE * sizeof(int));\n",
        "\n",
        "\n",
        "    if (arr == NULL) {\n",
        "        printf(\"Erro ao alocar o vetor\\n\");\n",
        "        return 1;\n",
        "    }\n",
        "\n",
        "\n",
        "    fill_array(arr, SIZE);\n",
        "\n",
        "\n",
        "    run_experiment(arr, SIZE);\n",
        "\n",
        "\n",
        "    // Liberando a memória alocada\n",
        "    free(arr);\n",
        "\n",
        "\n",
        "    return 0;\n",
        "}\n"
      ],
      "metadata": {
        "colab": {
          "base_uri": "https://localhost:8080/"
        },
        "id": "pU8SdyZndrQy",
        "outputId": "1bb28e15-2728-4098-826e-de2281bba5d5"
      },
      "execution_count": 17,
      "outputs": [
        {
          "output_type": "stream",
          "name": "stdout",
          "text": [
            "Writing somatorio_crit_openmb.c\n"
          ]
        }
      ]
    },
    {
      "cell_type": "code",
      "source": [
        "!gcc -fopenmp somatorio_crit_openmb.c -o somatorio_crit_openmb\n",
        "!./somatorio_crit_openmb"
      ],
      "metadata": {
        "colab": {
          "base_uri": "https://localhost:8080/"
        },
        "id": "2Cd0OwyXddjR",
        "outputId": "7913886a-b4be-4af5-ea31-4037e03315c2"
      },
      "execution_count": 18,
      "outputs": [
        {
          "output_type": "stream",
          "name": "stdout",
          "text": [
            "Threads\tCritical\n",
            "1\t3.124607\n",
            "2\t1.964076\n",
            "3\t2.146551\n",
            "4\t2.386907\n",
            "5\t2.410768\n",
            "6\t2.409652\n"
          ]
        }
      ]
    },
    {
      "cell_type": "markdown",
      "source": [
        "##Código Fonte Reduction:\n"
      ],
      "metadata": {
        "id": "jRYqQtg1eBLS"
      }
    },
    {
      "cell_type": "code",
      "source": [
        "%%writefile somatorio_reduc_openmb.c\n",
        "\n",
        "\n",
        "#include <stdio.h>\n",
        "#include <omp.h>\n",
        "#include <stdlib.h>\n",
        "#include <time.h>\n",
        "\n",
        "\n",
        "#define SIZE (1 << 30)\n",
        "#define REPS 10\n",
        "\n",
        "\n",
        "// Preenchendo o vetor somente com 1.\n",
        "void fill_array(int *arr, long long size) {\n",
        "    for (long long i = 0; i < size; i++) {\n",
        "        arr[i] = 1;\n",
        "    }\n",
        "}\n",
        "\n",
        "\n",
        "double sum_with_reduction(int *arr, long long size, int threads) {\n",
        "    long long sum = 0;\n",
        "    double start_time, end_time;\n",
        "\n",
        "\n",
        "    start_time = omp_get_wtime();\n",
        "\n",
        "\n",
        "    #pragma omp parallel for num_threads(threads) reduction(+:sum)\n",
        "    for (long long i = 0; i < size; i++) {\n",
        "        sum += arr[i];\n",
        "    }\n",
        "\n",
        "\n",
        "    end_time = omp_get_wtime();\n",
        "\n",
        "\n",
        "    return end_time - start_time;\n",
        "}\n",
        "\n",
        "\n",
        "void run_experiment(int *arr, long long size) {\n",
        "    int threads[] = {1, 2, 3, 4, 5, 6};\n",
        "    double time_reduction[6] = {0};\n",
        "\n",
        "\n",
        "    // Realizando 10 execuções para média\n",
        "    for (int r = 0; r < REPS; r++) {\n",
        "        for (int i = 0; i < 6; i++) {\n",
        "            time_reduction[i] += sum_with_reduction(arr, size, threads[i]);\n",
        "        }\n",
        "    }\n",
        "\n",
        "\n",
        "    // Calculando a média\n",
        "    for (int i = 0; i < 6; i++) {\n",
        "        time_reduction[i] /= REPS;\n",
        "    }\n",
        "\n",
        "\n",
        "    // Imprimindo a tabela\n",
        "    printf(\"Threads\\tReduction\\n\");\n",
        "    for (int i = 0; i < 6; i++) {\n",
        "        printf(\"%d\\t%f\\n\", threads[i], time_reduction[i]);\n",
        "    }\n",
        "}\n",
        "\n",
        "\n",
        "int main() {\n",
        "    // Alocando o vetor dinamicamente para suportar 2^30 elementos\n",
        "    int *arr = (int*) malloc(SIZE * sizeof(int));\n",
        "\n",
        "\n",
        "    if (arr == NULL) {\n",
        "        printf(\"Erro ao alocar o vetor\\n\");\n",
        "        return 1;\n",
        "    }\n",
        "    fill_array(arr, SIZE);\n",
        "    run_experiment(arr, SIZE);\n",
        "\n",
        "\n",
        "    // Liberando a memória alocada\n",
        "    free(arr);\n",
        "\n",
        "\n",
        "    return 0;\n",
        "}\n"
      ],
      "metadata": {
        "colab": {
          "base_uri": "https://localhost:8080/"
        },
        "id": "13My-0q8eCvW",
        "outputId": "9289064a-b335-4428-833d-64703c02ddff"
      },
      "execution_count": 19,
      "outputs": [
        {
          "output_type": "stream",
          "name": "stdout",
          "text": [
            "Writing somatorio_reduc_openmb.c\n"
          ]
        }
      ]
    },
    {
      "cell_type": "code",
      "source": [
        "!gcc -fopenmp somatorio_reduc_openmb.c -o somatorio_reduc_openmb\n",
        "!./somatorio_reduc_openmb"
      ],
      "metadata": {
        "colab": {
          "base_uri": "https://localhost:8080/"
        },
        "id": "PBpX5jSreHER",
        "outputId": "dc5872f6-627c-4e27-f834-2c3e2c0124ce"
      },
      "execution_count": 20,
      "outputs": [
        {
          "output_type": "stream",
          "name": "stdout",
          "text": [
            "Threads\tReduction\n",
            "1\t2.994960\n",
            "2\t2.199437\n",
            "3\t2.172225\n",
            "4\t2.118183\n",
            "5\t2.302955\n",
            "6\t2.436342\n"
          ]
        }
      ]
    },
    {
      "cell_type": "markdown",
      "source": [
        "#Lab 3 - Nova multiplicação de matrizes"
      ],
      "metadata": {
        "id": "n39byJTNej3y"
      }
    },
    {
      "cell_type": "markdown",
      "source": [
        "##Código fonte e execução multiplicação de matriz linear :"
      ],
      "metadata": {
        "id": "qYQKNhmDenmX"
      }
    },
    {
      "cell_type": "code",
      "source": [
        "%%writefile mult_sequencial.c\n",
        "\n",
        "#include <stdio.h>\n",
        "#include <stdlib.h>\n",
        "#include <time.h>\n",
        "\n",
        "void multiply_matrices(int **A, int **B, int **C, int N) {\n",
        "    for (int i = 0; i < N; i++) {\n",
        "        for (int j = 0; j < N; j++) {\n",
        "            C[i][j] = 0;\n",
        "            for (int k = 0; k < N; k++) {\n",
        "                C[i][j] += A[i][k] * B[k][j];\n",
        "            }\n",
        "        }\n",
        "    }\n",
        "}\n",
        "\n",
        "int main() {\n",
        "    int N = 1000; // Tamanho da matriz NxN\n",
        "    int **A, **B, **C;\n",
        "\n",
        "    // Alocação dinâmica das matrizes\n",
        "    A = (int **)malloc(N * sizeof(int *));\n",
        "    B = (int **)malloc(N * sizeof(int *));\n",
        "    C = (int **)malloc(N * sizeof(int *));\n",
        "    for (int i = 0; i < N; i++) {\n",
        "        A[i] = (int *)malloc(N * sizeof(int));\n",
        "        B[i] = (int *)malloc(N * sizeof(int));\n",
        "        C[i] = (int *)malloc(N * sizeof(int));\n",
        "    }\n",
        "\n",
        "    // Inicialização das matrizes A e B com valores aleatórios\n",
        "    srand(time(NULL));\n",
        "    for (int i = 0; i < N; i++) {\n",
        "        for (int j = 0; j < N; j++) {\n",
        "            A[i][j] = rand() % 100;\n",
        "            B[i][j] = rand() % 100;\n",
        "        }\n",
        "    }\n",
        "\n",
        "    // Medição do tempo de execução\n",
        "    clock_t start = clock();\n",
        "    multiply_matrices(A, B, C, N);\n",
        "    clock_t end = clock();\n",
        "\n",
        "    double time_taken = ((double)(end - start)) / CLOCKS_PER_SEC;\n",
        "    printf(\"Tempo de execução (Sequencial): %f segundos\\n\", time_taken);\n",
        "\n",
        "    // Liberação da memória alocada\n",
        "    for (int i = 0; i < N; i++) {\n",
        "        free(A[i]);\n",
        "        free(B[i]);\n",
        "        free(C[i]);\n",
        "    }\n",
        "    free(A);\n",
        "    free(B);\n",
        "    free(C);\n",
        "\n",
        "    return 0;\n",
        "}"
      ],
      "metadata": {
        "colab": {
          "base_uri": "https://localhost:8080/"
        },
        "id": "nIBPEjDhelRY",
        "outputId": "9e7059c0-df44-4720-d57b-94d4d0c2343b"
      },
      "execution_count": 34,
      "outputs": [
        {
          "output_type": "stream",
          "name": "stdout",
          "text": [
            "Overwriting mult_sequencial.c\n"
          ]
        }
      ]
    },
    {
      "cell_type": "code",
      "source": [
        "!gcc -o mult_sequencial mult_sequencial.c -fopenmp\n",
        "!./mult_sequencial"
      ],
      "metadata": {
        "colab": {
          "base_uri": "https://localhost:8080/"
        },
        "id": "xObaddBmhUuQ",
        "outputId": "83adf29a-879a-4969-9432-768d1b93e849"
      },
      "execution_count": 35,
      "outputs": [
        {
          "output_type": "stream",
          "name": "stdout",
          "text": [
            "Tempo de execução (Sequencial): 13.884984 segundos\n"
          ]
        }
      ]
    },
    {
      "cell_type": "markdown",
      "source": [
        "##Código fonte e execução multiplicação  de matrizes OpenMP.\n"
      ],
      "metadata": {
        "id": "igZhOf6NitWY"
      }
    },
    {
      "cell_type": "code",
      "source": [
        "%%writefile mult_mp.c\n",
        "\n",
        "#include <stdio.h>\n",
        "#include <stdlib.h>\n",
        "#include <omp.h>\n",
        "#include <time.h>\n",
        "\n",
        "void multiply_matrices(int **A, int **B, int **C, int N) {\n",
        "    #pragma omp parallel for\n",
        "    for (int i = 0; i < N; i++) {\n",
        "        for (int j = 0; j < N; j++) {\n",
        "            C[i][j] = 0;\n",
        "            for (int k = 0; k < N; k++) {\n",
        "                C[i][j] += A[i][k] * B[k][j];\n",
        "            }\n",
        "        }\n",
        "    }\n",
        "}\n",
        "\n",
        "int main() {\n",
        "    int N = 1000; // Tamanho da matriz NxN\n",
        "    int **A, **B, **C;\n",
        "\n",
        "    // Alocação dinâmica das matrizes\n",
        "    A = (int **)malloc(N * sizeof(int *));\n",
        "    B = (int **)malloc(N * sizeof(int *));\n",
        "    C = (int **)malloc(N * sizeof(int *));\n",
        "    for (int i = 0; i < N; i++) {\n",
        "        A[i] = (int *)malloc(N * sizeof(int));\n",
        "        B[i] = (int *)malloc(N * sizeof(int));\n",
        "        C[i] = (int *)malloc(N * sizeof(int));\n",
        "    }\n",
        "\n",
        "    // Inicialização das matrizes A e B com valores aleatórios\n",
        "    srand(time(NULL));\n",
        "    for (int i = 0; i < N; i++) {\n",
        "        for (int j = 0; j < N; j++) {\n",
        "            A[i][j] = rand() % 100;\n",
        "            B[i][j] = rand() % 100;\n",
        "        }\n",
        "    }\n",
        "\n",
        "    int num_threads[] = {1, 2, 3, 4, 5, 6};\n",
        "    double time_taken[6];\n",
        "\n",
        "    for (int t = 0; t < 6; t++) {\n",
        "        omp_set_num_threads(num_threads[t]);\n",
        "        double start = omp_get_wtime();\n",
        "\n",
        "        multiply_matrices(A, B, C, N);\n",
        "\n",
        "        double end = omp_get_wtime();\n",
        "        time_taken[t] = end - start;\n",
        "\n",
        "        printf(\"Tempo de execução com %d threads: %f segundos\\n\", num_threads[t], time_taken[t]);\n",
        "    }\n",
        "\n",
        "    // Liberação da memória alocada\n",
        "    for (int i = 0; i < N; i++) {\n",
        "        free(A[i]);\n",
        "        free(B[i]);\n",
        "        free(C[i]);\n",
        "    }\n",
        "    free(A);\n",
        "    free(B);\n",
        "    free(C);\n",
        "\n",
        "    return 0;\n",
        "}\n"
      ],
      "metadata": {
        "colab": {
          "base_uri": "https://localhost:8080/"
        },
        "id": "AtMBcahkiPsm",
        "outputId": "85d1db37-1ad1-4ef4-cfd4-471ea25a83a4"
      },
      "execution_count": 36,
      "outputs": [
        {
          "output_type": "stream",
          "name": "stdout",
          "text": [
            "Writing mult_mp.c\n"
          ]
        }
      ]
    },
    {
      "cell_type": "code",
      "source": [
        "!gcc -o mult_mp mult_mp.c -fopenmp\n",
        "!./mult_mp"
      ],
      "metadata": {
        "colab": {
          "base_uri": "https://localhost:8080/"
        },
        "id": "R7yNUCqEkIq1",
        "outputId": "742498fb-5d68-4b5a-e86e-03de9667b046"
      },
      "execution_count": 37,
      "outputs": [
        {
          "output_type": "stream",
          "name": "stdout",
          "text": [
            "Tempo de execução com 1 threads: 14.003931 segundos\n",
            "Tempo de execução com 2 threads: 14.836055 segundos\n",
            "Tempo de execução com 3 threads: 14.402459 segundos\n",
            "Tempo de execução com 4 threads: 14.110781 segundos\n",
            "Tempo de execução com 5 threads: 14.404463 segundos\n",
            "Tempo de execução com 6 threads: 14.478287 segundos\n"
          ]
        }
      ]
    }
  ]
}